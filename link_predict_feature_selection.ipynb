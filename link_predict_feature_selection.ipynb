{
  "nbformat": 4,
  "nbformat_minor": 0,
  "metadata": {
    "colab": {
      "name": "link_predict_feature_selection.ipynb",
      "provenance": [],
      "collapsed_sections": []
    },
    "kernelspec": {
      "name": "python3",
      "display_name": "Python 3"
    },
    "language_info": {
      "name": "python"
    },
    "widgets": {
      "application/vnd.jupyter.widget-state+json": {
        "198fbcc5a90f441d8d07860bff21de67": {
          "model_module": "@jupyter-widgets/controls",
          "model_name": "HBoxModel",
          "model_module_version": "1.5.0",
          "state": {
            "_view_name": "HBoxView",
            "_dom_classes": [],
            "_model_name": "HBoxModel",
            "_view_module": "@jupyter-widgets/controls",
            "_model_module_version": "1.5.0",
            "_view_count": null,
            "_view_module_version": "1.5.0",
            "box_style": "",
            "layout": "IPY_MODEL_98a917526be241609927659bc86c3bbf",
            "_model_module": "@jupyter-widgets/controls",
            "children": [
              "IPY_MODEL_b38ae02dc98f4ba982be639f29b32b94",
              "IPY_MODEL_3bbd15a4d63342a89ec4777a2d6224a9",
              "IPY_MODEL_ce3ae51dc88649f9aa1d0d6f32977cd8"
            ]
          }
        },
        "98a917526be241609927659bc86c3bbf": {
          "model_module": "@jupyter-widgets/base",
          "model_name": "LayoutModel",
          "model_module_version": "1.2.0",
          "state": {
            "_view_name": "LayoutView",
            "grid_template_rows": null,
            "right": null,
            "justify_content": null,
            "_view_module": "@jupyter-widgets/base",
            "overflow": null,
            "_model_module_version": "1.2.0",
            "_view_count": null,
            "flex_flow": null,
            "width": null,
            "min_width": null,
            "border": null,
            "align_items": null,
            "bottom": null,
            "_model_module": "@jupyter-widgets/base",
            "top": null,
            "grid_column": null,
            "overflow_y": null,
            "overflow_x": null,
            "grid_auto_flow": null,
            "grid_area": null,
            "grid_template_columns": null,
            "flex": null,
            "_model_name": "LayoutModel",
            "justify_items": null,
            "grid_row": null,
            "max_height": null,
            "align_content": null,
            "visibility": null,
            "align_self": null,
            "height": null,
            "min_height": null,
            "padding": null,
            "grid_auto_rows": null,
            "grid_gap": null,
            "max_width": null,
            "order": null,
            "_view_module_version": "1.2.0",
            "grid_template_areas": null,
            "object_position": null,
            "object_fit": null,
            "grid_auto_columns": null,
            "margin": null,
            "display": null,
            "left": null
          }
        },
        "b38ae02dc98f4ba982be639f29b32b94": {
          "model_module": "@jupyter-widgets/controls",
          "model_name": "HTMLModel",
          "model_module_version": "1.5.0",
          "state": {
            "_view_name": "HTMLView",
            "style": "IPY_MODEL_b46c888fcd1b47f1a64008ea240b0d5e",
            "_dom_classes": [],
            "description": "",
            "_model_name": "HTMLModel",
            "placeholder": "​",
            "_view_module": "@jupyter-widgets/controls",
            "_model_module_version": "1.5.0",
            "value": "Computing transition probabilities: 100%",
            "_view_count": null,
            "_view_module_version": "1.5.0",
            "description_tooltip": null,
            "_model_module": "@jupyter-widgets/controls",
            "layout": "IPY_MODEL_6aceeaaced5f48e9a0a7a00b7b6ca011"
          }
        },
        "3bbd15a4d63342a89ec4777a2d6224a9": {
          "model_module": "@jupyter-widgets/controls",
          "model_name": "FloatProgressModel",
          "model_module_version": "1.5.0",
          "state": {
            "_view_name": "ProgressView",
            "style": "IPY_MODEL_d6df6e234ee5448fa44704fe4a3c3a50",
            "_dom_classes": [],
            "description": "",
            "_model_name": "FloatProgressModel",
            "bar_style": "success",
            "max": 979,
            "_view_module": "@jupyter-widgets/controls",
            "_model_module_version": "1.5.0",
            "value": 979,
            "_view_count": null,
            "_view_module_version": "1.5.0",
            "orientation": "horizontal",
            "min": 0,
            "description_tooltip": null,
            "_model_module": "@jupyter-widgets/controls",
            "layout": "IPY_MODEL_da2cd24a4244495883294a09749dc1cd"
          }
        },
        "ce3ae51dc88649f9aa1d0d6f32977cd8": {
          "model_module": "@jupyter-widgets/controls",
          "model_name": "HTMLModel",
          "model_module_version": "1.5.0",
          "state": {
            "_view_name": "HTMLView",
            "style": "IPY_MODEL_b006dc90f2d74943a3229e95e889303f",
            "_dom_classes": [],
            "description": "",
            "_model_name": "HTMLModel",
            "placeholder": "​",
            "_view_module": "@jupyter-widgets/controls",
            "_model_module_version": "1.5.0",
            "value": " 979/979 [00:04&lt;00:00, 484.49it/s]",
            "_view_count": null,
            "_view_module_version": "1.5.0",
            "description_tooltip": null,
            "_model_module": "@jupyter-widgets/controls",
            "layout": "IPY_MODEL_f0b3202850824397bf85ef583dca8840"
          }
        },
        "b46c888fcd1b47f1a64008ea240b0d5e": {
          "model_module": "@jupyter-widgets/controls",
          "model_name": "DescriptionStyleModel",
          "model_module_version": "1.5.0",
          "state": {
            "_view_name": "StyleView",
            "_model_name": "DescriptionStyleModel",
            "description_width": "",
            "_view_module": "@jupyter-widgets/base",
            "_model_module_version": "1.5.0",
            "_view_count": null,
            "_view_module_version": "1.2.0",
            "_model_module": "@jupyter-widgets/controls"
          }
        },
        "6aceeaaced5f48e9a0a7a00b7b6ca011": {
          "model_module": "@jupyter-widgets/base",
          "model_name": "LayoutModel",
          "model_module_version": "1.2.0",
          "state": {
            "_view_name": "LayoutView",
            "grid_template_rows": null,
            "right": null,
            "justify_content": null,
            "_view_module": "@jupyter-widgets/base",
            "overflow": null,
            "_model_module_version": "1.2.0",
            "_view_count": null,
            "flex_flow": null,
            "width": null,
            "min_width": null,
            "border": null,
            "align_items": null,
            "bottom": null,
            "_model_module": "@jupyter-widgets/base",
            "top": null,
            "grid_column": null,
            "overflow_y": null,
            "overflow_x": null,
            "grid_auto_flow": null,
            "grid_area": null,
            "grid_template_columns": null,
            "flex": null,
            "_model_name": "LayoutModel",
            "justify_items": null,
            "grid_row": null,
            "max_height": null,
            "align_content": null,
            "visibility": null,
            "align_self": null,
            "height": null,
            "min_height": null,
            "padding": null,
            "grid_auto_rows": null,
            "grid_gap": null,
            "max_width": null,
            "order": null,
            "_view_module_version": "1.2.0",
            "grid_template_areas": null,
            "object_position": null,
            "object_fit": null,
            "grid_auto_columns": null,
            "margin": null,
            "display": null,
            "left": null
          }
        },
        "d6df6e234ee5448fa44704fe4a3c3a50": {
          "model_module": "@jupyter-widgets/controls",
          "model_name": "ProgressStyleModel",
          "model_module_version": "1.5.0",
          "state": {
            "_view_name": "StyleView",
            "_model_name": "ProgressStyleModel",
            "description_width": "",
            "_view_module": "@jupyter-widgets/base",
            "_model_module_version": "1.5.0",
            "_view_count": null,
            "_view_module_version": "1.2.0",
            "bar_color": null,
            "_model_module": "@jupyter-widgets/controls"
          }
        },
        "da2cd24a4244495883294a09749dc1cd": {
          "model_module": "@jupyter-widgets/base",
          "model_name": "LayoutModel",
          "model_module_version": "1.2.0",
          "state": {
            "_view_name": "LayoutView",
            "grid_template_rows": null,
            "right": null,
            "justify_content": null,
            "_view_module": "@jupyter-widgets/base",
            "overflow": null,
            "_model_module_version": "1.2.0",
            "_view_count": null,
            "flex_flow": null,
            "width": null,
            "min_width": null,
            "border": null,
            "align_items": null,
            "bottom": null,
            "_model_module": "@jupyter-widgets/base",
            "top": null,
            "grid_column": null,
            "overflow_y": null,
            "overflow_x": null,
            "grid_auto_flow": null,
            "grid_area": null,
            "grid_template_columns": null,
            "flex": null,
            "_model_name": "LayoutModel",
            "justify_items": null,
            "grid_row": null,
            "max_height": null,
            "align_content": null,
            "visibility": null,
            "align_self": null,
            "height": null,
            "min_height": null,
            "padding": null,
            "grid_auto_rows": null,
            "grid_gap": null,
            "max_width": null,
            "order": null,
            "_view_module_version": "1.2.0",
            "grid_template_areas": null,
            "object_position": null,
            "object_fit": null,
            "grid_auto_columns": null,
            "margin": null,
            "display": null,
            "left": null
          }
        },
        "b006dc90f2d74943a3229e95e889303f": {
          "model_module": "@jupyter-widgets/controls",
          "model_name": "DescriptionStyleModel",
          "model_module_version": "1.5.0",
          "state": {
            "_view_name": "StyleView",
            "_model_name": "DescriptionStyleModel",
            "description_width": "",
            "_view_module": "@jupyter-widgets/base",
            "_model_module_version": "1.5.0",
            "_view_count": null,
            "_view_module_version": "1.2.0",
            "_model_module": "@jupyter-widgets/controls"
          }
        },
        "f0b3202850824397bf85ef583dca8840": {
          "model_module": "@jupyter-widgets/base",
          "model_name": "LayoutModel",
          "model_module_version": "1.2.0",
          "state": {
            "_view_name": "LayoutView",
            "grid_template_rows": null,
            "right": null,
            "justify_content": null,
            "_view_module": "@jupyter-widgets/base",
            "overflow": null,
            "_model_module_version": "1.2.0",
            "_view_count": null,
            "flex_flow": null,
            "width": null,
            "min_width": null,
            "border": null,
            "align_items": null,
            "bottom": null,
            "_model_module": "@jupyter-widgets/base",
            "top": null,
            "grid_column": null,
            "overflow_y": null,
            "overflow_x": null,
            "grid_auto_flow": null,
            "grid_area": null,
            "grid_template_columns": null,
            "flex": null,
            "_model_name": "LayoutModel",
            "justify_items": null,
            "grid_row": null,
            "max_height": null,
            "align_content": null,
            "visibility": null,
            "align_self": null,
            "height": null,
            "min_height": null,
            "padding": null,
            "grid_auto_rows": null,
            "grid_gap": null,
            "max_width": null,
            "order": null,
            "_view_module_version": "1.2.0",
            "grid_template_areas": null,
            "object_position": null,
            "object_fit": null,
            "grid_auto_columns": null,
            "margin": null,
            "display": null,
            "left": null
          }
        }
      }
    }
  },
  "cells": [
    {
      "cell_type": "markdown",
      "metadata": {
        "id": "Isa5PW6wp1L_"
      },
      "source": [
        "## 匯入和安裝所需檔案和資料庫\n"
      ]
    },
    {
      "cell_type": "code",
      "metadata": {
        "colab": {
          "base_uri": "https://localhost:8080/"
        },
        "id": "XK_1qnOp60M5",
        "outputId": "7d628186-ddd6-4bcb-bfef-c84bdfc33bbb"
      },
      "source": [
        "!gdown --id '1IbGifvS34mTmwsfb08f04h9JX1fYMTMV' --output predict.csv\n",
        "!gdown --id '1Rgn7PWrLL0eph0w7afYW8R4sgDdmlx2d' --output data_train_edge.csv"
      ],
      "execution_count": 1,
      "outputs": [
        {
          "output_type": "stream",
          "name": "stdout",
          "text": [
            "Downloading...\n",
            "From: https://drive.google.com/uc?id=1IbGifvS34mTmwsfb08f04h9JX1fYMTMV\n",
            "To: /content/predict.csv\n",
            "100% 88.7k/88.7k [00:00<00:00, 32.2MB/s]\n",
            "Downloading...\n",
            "From: https://drive.google.com/uc?id=1Rgn7PWrLL0eph0w7afYW8R4sgDdmlx2d\n",
            "To: /content/data_train_edge.csv\n",
            "100% 175k/175k [00:00<00:00, 62.7MB/s]\n"
          ]
        }
      ]
    },
    {
      "cell_type": "code",
      "metadata": {
        "colab": {
          "base_uri": "https://localhost:8080/"
        },
        "id": "cXCR6BF47hyP",
        "outputId": "1ddac666-cf78-4c54-b007-51bf2f873037"
      },
      "source": [
        "pip install node2vec"
      ],
      "execution_count": 3,
      "outputs": [
        {
          "output_type": "stream",
          "name": "stdout",
          "text": [
            "Collecting node2vec\n",
            "  Downloading node2vec-0.4.3.tar.gz (4.6 kB)\n",
            "Requirement already satisfied: networkx in /usr/local/lib/python3.7/dist-packages (from node2vec) (2.6.3)\n",
            "Requirement already satisfied: gensim in /usr/local/lib/python3.7/dist-packages (from node2vec) (3.6.0)\n",
            "Requirement already satisfied: numpy in /usr/local/lib/python3.7/dist-packages (from node2vec) (1.19.5)\n",
            "Requirement already satisfied: tqdm in /usr/local/lib/python3.7/dist-packages (from node2vec) (4.62.3)\n",
            "Requirement already satisfied: joblib>=0.13.2 in /usr/local/lib/python3.7/dist-packages (from node2vec) (1.0.1)\n",
            "Requirement already satisfied: six>=1.5.0 in /usr/local/lib/python3.7/dist-packages (from gensim->node2vec) (1.15.0)\n",
            "Requirement already satisfied: smart-open>=1.2.1 in /usr/local/lib/python3.7/dist-packages (from gensim->node2vec) (5.2.1)\n",
            "Requirement already satisfied: scipy>=0.18.1 in /usr/local/lib/python3.7/dist-packages (from gensim->node2vec) (1.4.1)\n",
            "Building wheels for collected packages: node2vec\n",
            "  Building wheel for node2vec (setup.py) ... \u001b[?25l\u001b[?25hdone\n",
            "  Created wheel for node2vec: filename=node2vec-0.4.3-py3-none-any.whl size=5978 sha256=8781d56322189cbb2624c7076ece1ed48aca0c7b291e2e3a8acdba08d155fc59\n",
            "  Stored in directory: /root/.cache/pip/wheels/07/62/78/5202cb8c03cbf1593b48a8a442fca8ceec2a8c80e22318bae9\n",
            "Successfully built node2vec\n",
            "Installing collected packages: node2vec\n",
            "Successfully installed node2vec-0.4.3\n"
          ]
        }
      ]
    },
    {
      "cell_type": "code",
      "metadata": {
        "id": "4pVRrRmn7WuK"
      },
      "source": [
        "import pandas as pd\n",
        "import numpy as np\n",
        "import random\n",
        "import networkx as nx\n",
        "import matplotlib.pyplot as plt\n",
        "from sklearn.model_selection import train_test_split\n",
        "from node2vec import Node2Vec\n",
        "from time import time"
      ],
      "execution_count": 4,
      "outputs": []
    },
    {
      "cell_type": "code",
      "metadata": {
        "colab": {
          "base_uri": "https://localhost:8080/"
        },
        "id": "NGRpRLq_7YTE",
        "outputId": "8a131ae5-b36b-47b5-97d7-24fecb20da73"
      },
      "source": [
        "train = pd.read_csv(\"data_train_edge.csv\")\n",
        "predict = pd.read_csv(\"predict.csv\")\n",
        "print(\"training pairs： %s, predict pairs： %s\" % (len(train),len(predict)))"
      ],
      "execution_count": 5,
      "outputs": [
        {
          "output_type": "stream",
          "name": "stdout",
          "text": [
            "training pairs： 20457, predict pairs： 10231\n"
          ]
        }
      ]
    },
    {
      "cell_type": "code",
      "metadata": {
        "colab": {
          "base_uri": "https://localhost:8080/",
          "height": 202
        },
        "id": "yMNYh5s47nlg",
        "outputId": "100bd8fd-630a-4d77-b261-d19499083154"
      },
      "source": [
        "train.head(5)"
      ],
      "execution_count": 6,
      "outputs": [
        {
          "output_type": "execute_result",
          "data": {
            "text/html": [
              "<div>\n",
              "<style scoped>\n",
              "    .dataframe tbody tr th:only-of-type {\n",
              "        vertical-align: middle;\n",
              "    }\n",
              "\n",
              "    .dataframe tbody tr th {\n",
              "        vertical-align: top;\n",
              "    }\n",
              "\n",
              "    .dataframe thead th {\n",
              "        text-align: right;\n",
              "    }\n",
              "</style>\n",
              "<table border=\"1\" class=\"dataframe\">\n",
              "  <thead>\n",
              "    <tr style=\"text-align: right;\">\n",
              "      <th></th>\n",
              "      <th>node1</th>\n",
              "      <th>node2</th>\n",
              "    </tr>\n",
              "  </thead>\n",
              "  <tbody>\n",
              "    <tr>\n",
              "      <th>0</th>\n",
              "      <td>287</td>\n",
              "      <td>68</td>\n",
              "    </tr>\n",
              "    <tr>\n",
              "      <th>1</th>\n",
              "      <td>63</td>\n",
              "      <td>552</td>\n",
              "    </tr>\n",
              "    <tr>\n",
              "      <th>2</th>\n",
              "      <td>189</td>\n",
              "      <td>20</td>\n",
              "    </tr>\n",
              "    <tr>\n",
              "      <th>3</th>\n",
              "      <td>380</td>\n",
              "      <td>376</td>\n",
              "    </tr>\n",
              "    <tr>\n",
              "      <th>4</th>\n",
              "      <td>370</td>\n",
              "      <td>443</td>\n",
              "    </tr>\n",
              "  </tbody>\n",
              "</table>\n",
              "</div>"
            ],
            "text/plain": [
              "   node1  node2\n",
              "0    287     68\n",
              "1     63    552\n",
              "2    189     20\n",
              "3    380    376\n",
              "4    370    443"
            ]
          },
          "metadata": {},
          "execution_count": 6
        }
      ]
    },
    {
      "cell_type": "code",
      "metadata": {
        "colab": {
          "base_uri": "https://localhost:8080/",
          "height": 336
        },
        "id": "99VEEy0v-Jvr",
        "outputId": "9c47b67a-ac14-4fbf-d6c9-b7a23ae1cc51"
      },
      "source": [
        "#creating a sample of 50 data points\n",
        "pd.read_csv('data_train_edge.csv',nrows=50).to_csv('train_woheader_sample.csv',header=False,index=False)\n",
        "#reading the edgelist in a variable using networkX\n",
        "subgraph=nx.read_edgelist('train_woheader_sample.csv',delimiter=',',create_using=nx.DiGraph(),nodetype=int)\n",
        "#plotting the graph\n",
        "pos=nx.spring_layout(subgraph)\n",
        "nx.draw(subgraph,pos,node_color='#A0CBE2',edge_color='#00bb5e',width=1,edge_cmap=plt.cm.Blues,with_labels=True)\n",
        "plt.savefig(\"graph_sample.pdf\")\n",
        "print(nx.info(subgraph))"
      ],
      "execution_count": 18,
      "outputs": [
        {
          "output_type": "stream",
          "name": "stdout",
          "text": [
            "DiGraph with 89 nodes and 50 edges\n"
          ]
        },
        {
          "output_type": "display_data",
          "data": {
            "image/png": "[encoded data removed]",
            "text/plain": [
              "<Figure size 432x288 with 1 Axes>"
            ]
          },
          "metadata": {}
        }
      ]
    },
    {
      "cell_type": "markdown",
      "metadata": {
        "id": "72HhQyGpqCCn"
      },
      "source": [
        "## 原本訓練集的圖"
      ]
    },
    {
      "cell_type": "code",
      "metadata": {
        "id": "pVTVj9ho7rR4"
      },
      "source": [
        "# create graph\n",
        "G = nx.from_pandas_edgelist(train, \"node1\", \"node2\", create_using=nx.DiGraph())"
      ],
      "execution_count": 19,
      "outputs": []
    },
    {
      "cell_type": "code",
      "metadata": {
        "colab": {
          "base_uri": "https://localhost:8080/"
        },
        "id": "qit6nCEP7xAz",
        "outputId": "c6a2b6e9-333d-4d51-c979-de18aaa55003"
      },
      "source": [
        "n = G.number_of_nodes()\n",
        "m = G.number_of_edges()\n",
        "print(\"Number of nodes :\", str(n))\n",
        "print(\"Number of edges :\", str(m))"
      ],
      "execution_count": 20,
      "outputs": [
        {
          "output_type": "stream",
          "name": "stdout",
          "text": [
            "Number of nodes : 979\n",
            "Number of edges : 20457\n"
          ]
        }
      ]
    },
    {
      "cell_type": "code",
      "metadata": {
        "colab": {
          "base_uri": "https://localhost:8080/"
        },
        "id": "osVN1quo7yR3",
        "outputId": "9705f578-e459-483d-a3ff-bb0b57cb1d2c"
      },
      "source": [
        "print(nx.info(G))"
      ],
      "execution_count": 21,
      "outputs": [
        {
          "output_type": "stream",
          "name": "stdout",
          "text": [
            "DiGraph with 979 nodes and 20457 edges\n"
          ]
        }
      ]
    },
    {
      "cell_type": "markdown",
      "metadata": {
        "id": "vIPXQ70TqOjq"
      },
      "source": [
        "#Negative Sampling : 創建與edges相同數量的 Missing edges"
      ]
    },
    {
      "cell_type": "code",
      "metadata": {
        "id": "32QPTUu870m0"
      },
      "source": [
        "#the dict will contain a tuple of 2 nodes as key and the value will be 1 if the nodes are connected\n",
        "G = nx.from_pandas_edgelist(train, \"node1\", \"node2\", create_using=nx.DiGraph())\n",
        "edges = dict()\n",
        "for edge in train.values:\n",
        "    edges[(edge[0], edge[1])] = 1\n",
        "    \n",
        "missing_edges = set([])\n",
        "while (len(missing_edges)< G.number_of_edges()):\n",
        "    a=random.randint(0, 1004)\n",
        "    b=random.randint(0, 1004)\n",
        "    tmp = edges.get((a,b),-1) # if key(a,b) is not in edges(connected nodes) then return -1, otherwise return 1 \n",
        "    if tmp == -1 and a!=b:\n",
        "        try:\n",
        "            # adding points who less likely to be friends\n",
        "            if nx.shortest_path_length(G,source=a,target=b) > 2: \n",
        "                missing_edges.add((a,b))\n",
        "            else:\n",
        "                continue  \n",
        "        except:  \n",
        "            missing_edges.add((a,b))              \n",
        "    else:\n",
        "        continue"
      ],
      "execution_count": 22,
      "outputs": []
    },
    {
      "cell_type": "code",
      "metadata": {
        "colab": {
          "base_uri": "https://localhost:8080/"
        },
        "id": "DzhqhFsM8Zwy",
        "outputId": "7d0d114e-f04d-465d-ea5a-d37a0488769e"
      },
      "source": [
        "print('number of positive samples: %d and negative samples: %d' % (len(edges),len(missing_edges)))"
      ],
      "execution_count": 25,
      "outputs": [
        {
          "output_type": "stream",
          "name": "stdout",
          "text": [
            "number of positive samples: 20457 and negative samples: 20457\n"
          ]
        }
      ]
    },
    {
      "cell_type": "code",
      "metadata": {
        "id": "dD6ZyLZm8fsn"
      },
      "source": [
        "pos = pd.DataFrame(list(edges), columns=['node1', 'node2'])\n",
        "neg = pd.DataFrame(list(missing_edges), columns=['node1', 'node2'])"
      ],
      "execution_count": 26,
      "outputs": []
    },
    {
      "cell_type": "code",
      "metadata": {
        "id": "RsjCw4K9BfEt"
      },
      "source": [
        "train_all = pos.append(neg,ignore_index=True)\n",
        "y_train_all = np.concatenate((np.ones(len(pos)), np.zeros(len(neg))))"
      ],
      "execution_count": 27,
      "outputs": []
    },
    {
      "cell_type": "markdown",
      "metadata": {
        "id": "aYFWdTeVqjym"
      },
      "source": [
        "##拆分 Train 和 Test ( 7 : 3 )"
      ]
    },
    {
      "cell_type": "code",
      "metadata": {
        "colab": {
          "base_uri": "https://localhost:8080/"
        },
        "id": "ZwFwr4oaBgtb",
        "outputId": "4bcc77ee-360f-4c86-81e8-995958be88ef"
      },
      "source": [
        "# total data \n",
        "df_pos = pd.read_csv('data_train_edge.csv')\n",
        "df_neg = pd.DataFrame(list(missing_edges), columns=['node1', 'node2'])\n",
        "print(\"Number of nodes in the graph with edges\", df_pos.shape[0])\n",
        "print(\"Number of nodes in the graph without edges\", df_neg.shape[0])\n",
        " \n",
        "# Spilt data into 70-30 positive/negative links seperatly,we only need \"positive training data\" for creating graph and features\n",
        "X_train_pos, X_test_pos, y_train_pos, y_test_pos  = train_test_split(df_pos,np.ones(len(df_pos)),test_size=0.3, random_state=9)\n",
        "X_train_neg, X_test_neg, y_train_neg, y_test_neg  = train_test_split(df_neg,np.zeros(len(df_neg)),test_size=0.3, random_state=9)\n",
        "print('\\n')\n",
        "print(\"Number of nodes in the train data graph with edges\", X_train_pos.shape[0])\n",
        "print(\"Number of nodes in the train data graph without edges\", X_train_neg.shape[0])\n",
        "print('\\n')\n",
        "print(\"Number of nodes in the test data graph with edges\", X_test_pos.shape[0])\n",
        "print(\"Number of nodes in the test data graph without edges\", X_test_neg.shape[0])"
      ],
      "execution_count": 28,
      "outputs": [
        {
          "output_type": "stream",
          "name": "stdout",
          "text": [
            "Number of nodes in the graph with edges 20457\n",
            "Number of nodes in the graph without edges 20457\n",
            "\n",
            "\n",
            "Number of nodes in the train data graph with edges 14319\n",
            "Number of nodes in the train data graph without edges 14319\n",
            "\n",
            "\n",
            "Number of nodes in the test data graph with edges 6138\n",
            "Number of nodes in the test data graph without edges 6138\n"
          ]
        }
      ]
    },
    {
      "cell_type": "code",
      "metadata": {
        "colab": {
          "base_uri": "https://localhost:8080/"
        },
        "id": "9mCz4_OyBq1R",
        "outputId": "0bda6da6-676b-459a-ed66-38aecddf1ff0"
      },
      "source": [
        "train_graph=nx.from_pandas_edgelist(X_train_pos, \"node1\", \"node2\", create_using=nx.DiGraph())\n",
        "test_graph=nx.from_pandas_edgelist(X_test_pos, \"node1\", \"node2\", create_using=nx.DiGraph())\n",
        "print(nx.info(train_graph),'\\n')\n",
        "print(nx.info(test_graph),'\\n')\n",
        "\n",
        "# find the unique nodes in the both train and test graphs\n",
        "train_nodes_pos = set(train_graph.nodes())\n",
        "test_nodes_pos = set(test_graph.nodes())\n",
        "\n",
        "trY_teY = len(train_nodes_pos.intersection(test_nodes_pos))\n",
        "trY_teN = len(train_nodes_pos - test_nodes_pos)\n",
        "teY_trN = len(test_nodes_pos - train_nodes_pos)\n",
        "\n",
        "print('# of people common in train and test -- ',trY_teY)\n",
        "print('# of people present in train but not present in test -- ',trY_teN)\n",
        "print('# of people present in test but not present in train -- ',teY_trN) #比較沒有冷啟動問題\n",
        "print(' % of people not in Train but exist in Test in total Test data are {} %'.format(teY_trN/len(test_nodes_pos)*100))"
      ],
      "execution_count": 30,
      "outputs": [
        {
          "output_type": "stream",
          "name": "stdout",
          "text": [
            "DiGraph with 941 nodes and 14319 edges \n",
            "\n",
            "DiGraph with 881 nodes and 6138 edges \n",
            "\n",
            "# of people common in train and test --  843\n",
            "# of people present in train but not present in test --  98\n",
            "# of people present in test but not present in train --  38\n",
            " % of people not in Train but exist in Test in total Test data are 4.313280363223609 %\n"
          ]
        }
      ]
    },
    {
      "cell_type": "code",
      "metadata": {
        "id": "j-g2Dy60BuA2"
      },
      "source": [
        "# concatenate positive & negative samples\n",
        "X_train = X_train_pos.append(X_train_neg,ignore_index=True)\n",
        "y_train = np.concatenate((y_train_pos,y_train_neg))\n",
        "X_test = X_test_pos.append(X_test_neg,ignore_index=True)\n",
        "y_test = np.concatenate((y_test_pos,y_test_neg))"
      ],
      "execution_count": 31,
      "outputs": []
    },
    {
      "cell_type": "code",
      "metadata": {
        "colab": {
          "base_uri": "https://localhost:8080/"
        },
        "id": "Khe-lL7tCAWD",
        "outputId": "58822f1f-566b-4a6c-d4b9-56ef9f9ddf83"
      },
      "source": [
        "print(\"X_train: %s, X_test: %s \" % (len(X_train), len(X_test)))"
      ],
      "execution_count": 32,
      "outputs": [
        {
          "output_type": "stream",
          "name": "stdout",
          "text": [
            "X_train: 28638, X_test: 12276 \n"
          ]
        }
      ]
    },
    {
      "cell_type": "markdown",
      "metadata": {
        "id": "qdfExDAzuP-3"
      },
      "source": [
        "##拆分 Train 和 Validation ( 8 : 2 )\n"
      ]
    },
    {
      "cell_type": "code",
      "metadata": {
        "id": "CXh42ReyCBfZ"
      },
      "source": [
        "X_train_tra_pos, X_train_val_pos, y_train_tra_pos, y_train_val_pos  = train_test_split(X_train_pos,np.ones(len(X_train_pos)),test_size=0.2, random_state=9)\n",
        "X_train_tra_neg, X_train_val_neg, y_train_tra_neg, y_train_val_neg  = train_test_split(X_train_neg,np.zeros(len(X_train_neg)),test_size=0.2, random_state=9)"
      ],
      "execution_count": 33,
      "outputs": []
    },
    {
      "cell_type": "code",
      "metadata": {
        "colab": {
          "base_uri": "https://localhost:8080/"
        },
        "id": "B84N3IkCCEjA",
        "outputId": "489ab947-11a5-46dd-93b8-5ace24843436"
      },
      "source": [
        "train_tra_graph=nx.from_pandas_edgelist(X_train_tra_pos, \"node1\", \"node2\", create_using=nx.DiGraph())\n",
        "train_val_graph=nx.from_pandas_edgelist(X_train_val_pos, \"node1\", \"node2\", create_using=nx.DiGraph())\n",
        "print(nx.info(train_tra_graph),'\\n')\n",
        "print(nx.info(train_val_graph),'\\n')"
      ],
      "execution_count": 34,
      "outputs": [
        {
          "output_type": "stream",
          "name": "stdout",
          "text": [
            "DiGraph with 917 nodes and 11455 edges \n",
            "\n",
            "DiGraph with 778 nodes and 2864 edges \n",
            "\n"
          ]
        }
      ]
    },
    {
      "cell_type": "code",
      "metadata": {
        "id": "ppo3AnfvCFrn"
      },
      "source": [
        "# concatenate positive & negative samples\n",
        "X_train_tra = X_train_tra_pos.append(X_train_tra_neg, ignore_index=True)\n",
        "y_train_tra = np.concatenate((y_train_tra_pos, y_train_tra_neg))\n",
        "X_train_val = X_train_val_pos.append(X_train_val_neg, ignore_index=True)\n",
        "y_train_val = np.concatenate((y_train_val_pos, y_train_val_neg))"
      ],
      "execution_count": 35,
      "outputs": []
    },
    {
      "cell_type": "code",
      "metadata": {
        "colab": {
          "base_uri": "https://localhost:8080/"
        },
        "id": "7vymmVVyCHc4",
        "outputId": "dd2edb39-d733-4861-96fa-7dff67804478"
      },
      "source": [
        "print(\"X_train_train: %s, X_train_validation: %s \" % (len(X_train_tra), len(X_train_val)))"
      ],
      "execution_count": 36,
      "outputs": [
        {
          "output_type": "stream",
          "name": "stdout",
          "text": [
            "X_train_train: 22910, X_train_validation: 5728 \n"
          ]
        }
      ]
    },
    {
      "cell_type": "markdown",
      "metadata": {
        "id": "CJHK9BQ3z379"
      },
      "source": [
        "## Features Extraction"
      ]
    },
    {
      "cell_type": "code",
      "metadata": {
        "id": "au0OXodhCI2E"
      },
      "source": [
        "'''\n",
        "\"successor\" of n is a node m such that there exists a directed edge \"from n to m\" (n->m ,n向外指向的nodes數)\n",
        "\"predecessor\" of n is a node m such that there exists a directed edge \"from m to n\" (m->n ,指向n的nodes數)\n",
        "此處因是directed graph，定義「被指向者」為朋友，ex：a->b，b為a的朋友\n",
        "'''\n",
        "# 1.Jaccard_coefficient\n",
        "def cal_jaccard_coefficient(a,b,train_graph):\n",
        "    try:\n",
        "        if len(set(train_graph.successors(a))) == 0  | len(set(train_graph.successors(b))) == 0:\n",
        "            return 0\n",
        "        sim = (len(set(train_graph.successors(a)).intersection(set(train_graph.successors(b)))))/\\\n",
        "                                 (len(set(train_graph.successors(a)).union(set(train_graph.successors(b)))))\n",
        "        return sim\n",
        "    except:\n",
        "        return 0\n",
        "\n",
        "# 2.Adar Index\n",
        "def calc_adar_in(a,b,train_graph):\n",
        "    sum=0\n",
        "    try:\n",
        "        n=list(set(train_graph.successors(a)).intersection(set(train_graph.successors(b)))) #同時被 a、b指向者(common friends)\n",
        "        if len(n)!=0:\n",
        "            for i in n:\n",
        "                a = len(list(train_graph.predecessors(i))) #每一個common friend的朋友數量(指向 i 的數量)\n",
        "                if a > 1:\n",
        "                    sum =sum +(1/np.log10(a)) # i 的朋友數越多，權重佔比越小 \n",
        "                else:\n",
        "                    continue\n",
        "            return sum\n",
        "        else:\n",
        "            return 0\n",
        "    except:\n",
        "        return 0"
      ],
      "execution_count": 37,
      "outputs": []
    },
    {
      "cell_type": "code",
      "metadata": {
        "id": "9Z97bHCfCNeC"
      },
      "source": [
        "# 3.Shortest path\n",
        "def compute_shortest_path_length(a,b,train_graph):\n",
        "    p=-1\n",
        "    try:\n",
        "        if train_graph.has_edge(a,b):\n",
        "            train_graph.remove_edge(a,b)\n",
        "            p= nx.shortest_path_length(train_graph,source=a,target=b)\n",
        "            train_graph.add_edge(a,b)\n",
        "        else:\n",
        "            p= nx.shortest_path_length(train_graph,source=a,target=b)\n",
        "        return p\n",
        "    except:\n",
        "        return -1"
      ],
      "execution_count": 38,
      "outputs": []
    },
    {
      "cell_type": "code",
      "metadata": {
        "id": "CVk4v5PPCPEJ"
      },
      "source": [
        "# 4.Follow back\n",
        "def follows_back(a,b,train_graph):\n",
        "    if train_graph.has_edge(b,a):\n",
        "        return 1\n",
        "    else:\n",
        "        return 0"
      ],
      "execution_count": 39,
      "outputs": []
    },
    {
      "cell_type": "code",
      "metadata": {
        "colab": {
          "base_uri": "https://localhost:8080/"
        },
        "id": "FFhiThUpCQWR",
        "outputId": "ff767ccd-1b9a-463a-e01b-64b79223ca22"
      },
      "source": [
        "print(nx.info(G))"
      ],
      "execution_count": 40,
      "outputs": [
        {
          "output_type": "stream",
          "name": "stdout",
          "text": [
            "DiGraph with 979 nodes and 20457 edges\n"
          ]
        }
      ]
    },
    {
      "cell_type": "code",
      "metadata": {
        "colab": {
          "base_uri": "https://localhost:8080/"
        },
        "id": "7L8f58ngCRkn",
        "outputId": "6d561a0f-6f8e-4502-ad7c-4a99ff3df11f"
      },
      "source": [
        "print(nx.info(train_graph))"
      ],
      "execution_count": 41,
      "outputs": [
        {
          "output_type": "stream",
          "name": "stdout",
          "text": [
            "DiGraph with 941 nodes and 14319 edges\n"
          ]
        }
      ]
    },
    {
      "cell_type": "code",
      "metadata": {
        "colab": {
          "base_uri": "https://localhost:8080/"
        },
        "id": "WrwRYuOXCV1l",
        "outputId": "0cd2f0f1-4cc2-432c-f45d-b4b4305f1abb"
      },
      "source": [
        "print(nx.info(train_tra_graph))"
      ],
      "execution_count": 42,
      "outputs": [
        {
          "output_type": "stream",
          "name": "stdout",
          "text": [
            "DiGraph with 917 nodes and 11455 edges\n"
          ]
        }
      ]
    },
    {
      "cell_type": "code",
      "metadata": {
        "id": "s-N0-4aQCW0z"
      },
      "source": [
        "# 5.Page rank(count the number and quality of nodes to determine how important the node is)\n",
        "'''\n",
        "For the data points which exists in test dataset but not exists in the train dataset will not have pagerank value.\n",
        "For these data points,just use the mean pagerank as imputation.\n",
        "'''\n",
        "def pg_rank(train_graph):\n",
        "    pr = nx.pagerank(train_graph, alpha=0.85) #dict\n",
        "    mean_pr = float(sum(pr.values())) / len(pr)\n",
        "    print(\"pg rank\")\n",
        "    print('min',pr[min(pr, key=pr.get)])\n",
        "    print('max',pr[max(pr, key=pr.get)])\n",
        "    print('mean',mean_pr)\n",
        "    return pr, mean_pr"
      ],
      "execution_count": 43,
      "outputs": []
    },
    {
      "cell_type": "code",
      "metadata": {
        "id": "KO8uDxYaCYtt"
      },
      "source": [
        "# 6.Katz Centrality(measure influence by taking into account the total number of walks between a pair of nodes)\n",
        "def katz_central(train_graph):\n",
        "    katz = nx.katz.katz_centrality(train_graph,alpha=0.005,beta=1)\n",
        "    mean_katz = float(sum(katz.values())) / len(katz)\n",
        "    print('Katz Centrality')\n",
        "    print('min',katz[min(katz, key=katz.get)])\n",
        "    print('max',katz[max(katz, key=katz.get)])\n",
        "    print('mean',mean_katz)\n",
        "    return katz, mean_katz"
      ],
      "execution_count": 44,
      "outputs": []
    },
    {
      "cell_type": "code",
      "metadata": {
        "id": "pTx1jJCJCaH5"
      },
      "source": [
        "# 7.HITS\n",
        "'''\n",
        "HITS identifies good authorities and hubs for a topic by assigning two numbers to a node : an authority and a hub weight. \n",
        "Authorities estimate the node value based on the incoming links. \n",
        "Hubs estimates the node value based on outgoing links.\n",
        "'''\n",
        "def HITS(train_graph):\n",
        "    hits = nx.hits(train_graph, max_iter=100, tol=1e-08, nstart=None, normalized=True)\n",
        "    mean_hits = float(sum(hits[0].values())) / len(hits[0])\n",
        "    print('Hyper-link induced topic search (HITS)')\n",
        "    print('min',hits[0][min(hits[0], key=hits[0].get)])\n",
        "    print('max',hits[0][max(hits[0], key=hits[0].get)])\n",
        "    print('mean',mean_hits,'\\n')\n",
        "    return hits, mean_hits"
      ],
      "execution_count": 45,
      "outputs": []
    },
    {
      "cell_type": "code",
      "metadata": {
        "id": "6edQsfZBCeA1"
      },
      "source": [
        "def compute_features_follow(df_final):\n",
        "    #calculating no of followers followees for node1 and node2\n",
        "    #calculating intersection of followers and followees for node1 and node2\n",
        "    num_followers_1=[]\n",
        "    num_followees_1=[]\n",
        "    num_followers_2=[]\n",
        "    num_followees_2=[]\n",
        "    inter_followers=[]\n",
        "    inter_followees=[]\n",
        "    for i,row in df_final.iterrows():\n",
        "        try:\n",
        "            n1_p=set(train_graph.predecessors(row['node1']))\n",
        "            n1_s=set(train_graph.successors(row['node1']))\n",
        "        except:\n",
        "            n1_p = set()\n",
        "            n1_s = set()\n",
        "        try:\n",
        "            n2_p =set(train_graph.predecessors(row['node2']))\n",
        "            n2_s =set(train_graph.successors(row['node2']))\n",
        "        except:\n",
        "            n2_p = set()\n",
        "            n2_s = set()\n",
        "        num_followers_1.append(len(n1_p))\n",
        "        num_followees_1.append(len(n1_s))\n",
        "\n",
        "        num_followers_2.append(len(n2_p))\n",
        "        num_followees_2.append(len(n2_s))\n",
        "\n",
        "        inter_followers.append(len(n1_p.intersection(n2_p)))\n",
        "        inter_followees.append(len(n1_s.intersection(n2_s)))\n",
        "    \n",
        "    return num_followers_1, num_followers_2, num_followees_1, num_followees_2, inter_followers, inter_followees"
      ],
      "execution_count": 46,
      "outputs": []
    },
    {
      "cell_type": "markdown",
      "metadata": {
        "id": "2a0VOvgp6bKX"
      },
      "source": [
        "## Node2vec 計算"
      ]
    },
    {
      "cell_type": "code",
      "metadata": {
        "colab": {
          "base_uri": "https://localhost:8080/",
          "height": 65,
          "referenced_widgets": [
            "198fbcc5a90f441d8d07860bff21de67",
            "98a917526be241609927659bc86c3bbf",
            "b38ae02dc98f4ba982be639f29b32b94",
            "3bbd15a4d63342a89ec4777a2d6224a9",
            "ce3ae51dc88649f9aa1d0d6f32977cd8",
            "b46c888fcd1b47f1a64008ea240b0d5e",
            "6aceeaaced5f48e9a0a7a00b7b6ca011",
            "d6df6e234ee5448fa44704fe4a3c3a50",
            "da2cd24a4244495883294a09749dc1cd",
            "b006dc90f2d74943a3229e95e889303f",
            "f0b3202850824397bf85ef583dca8840"
          ]
        },
        "id": "fyM5_NomCgNj",
        "outputId": "0d5cc6e6-507a-4f93-f53a-500c0b976d48"
      },
      "source": [
        "# Precompute probabilities and generate walks \n",
        "node2vec = Node2Vec(G, dimensions=64, walk_length=30, num_walks=10)  \n",
        "\n",
        "# Embed nodes\n",
        "model = node2vec.fit(window=10, min_count=1, batch_words=4)"
      ],
      "execution_count": 47,
      "outputs": [
        {
          "output_type": "display_data",
          "data": {
            "application/vnd.jupyter.widget-view+json": {
              "model_id": "198fbcc5a90f441d8d07860bff21de67",
              "version_minor": 0,
              "version_major": 2
            },
            "text/plain": [
              "Computing transition probabilities:   0%|          | 0/979 [00:00<?, ?it/s]"
            ]
          },
          "metadata": {}
        },
        {
          "output_type": "stream",
          "name": "stderr",
          "text": [
            "Generating walks (CPU: 1): 100%|██████████| 10/10 [00:08<00:00,  1.11it/s]\n"
          ]
        }
      ]
    },
    {
      "cell_type": "code",
      "metadata": {
        "id": "dGkFRcKGCiCE"
      },
      "source": [
        "def cosin_distance(vector1, vector2):\n",
        "    dot_product = 0.0\n",
        "    normA = 0.0\n",
        "    normB = 0.0\n",
        "    for a, b in zip(vector1, vector2):\n",
        "        dot_product += a * b\n",
        "        normA += a ** 2\n",
        "        normB += b ** 2\n",
        "    if normA == 0.0 or normB == 0.0:\n",
        "        return None\n",
        "    else:\n",
        "        return dot_product / ((normA * normB) ** 0.5)\n",
        "\n",
        "def cos_sim(x_train):\n",
        "    node_sim = [] \n",
        "    for i,j in x_train[['node1','node2']].values:\n",
        "        try:\n",
        "            sim = cosin_distance(model.wv.get_vector(str(i)),model.wv.get_vector(str(j)))\n",
        "        except:\n",
        "            sim = -1\n",
        "        node_sim.append(sim)\n",
        "    \n",
        "    final_sim = np.round(node_sim,3)\n",
        "    return final_sim"
      ],
      "execution_count": 48,
      "outputs": []
    },
    {
      "cell_type": "code",
      "metadata": {
        "colab": {
          "base_uri": "https://localhost:8080/"
        },
        "id": "_ZlxMsBXERgh",
        "outputId": "a8a0c039-597b-4746-f4f4-64f327b80549"
      },
      "source": [
        "#將後續的csv直接存進google drive\n",
        "from google.colab import drive\n",
        "drive.mount('/content/drive')"
      ],
      "execution_count": 66,
      "outputs": [
        {
          "output_type": "stream",
          "name": "stdout",
          "text": [
            "Mounted at /content/drive\n"
          ]
        }
      ]
    },
    {
      "cell_type": "markdown",
      "metadata": {
        "id": "wGxRBAMl6fmQ"
      },
      "source": [
        "## map features to data"
      ]
    },
    {
      "cell_type": "code",
      "metadata": {
        "id": "DIkXFkU-Cl-Y"
      },
      "source": [
        "def map_features(X_train, train_graph, df_to_write_in, link_y):\n",
        "    start_time = time()\n",
        "\n",
        "    X_train['jaccard_coef'] = X_train.apply(lambda row:cal_jaccard_coefficient(row['node1'],row['node2'],train_graph),axis=1)\n",
        "    X_train['adar_index'] = X_train.apply(lambda row: calc_adar_in(row['node1'],row['node2'],train_graph),axis=1)\n",
        "    X_train['shortest_path'] = X_train.apply(lambda row: compute_shortest_path_length(row['node1'],row['node2'],train_graph),axis=1)\n",
        "    X_train['follows_back'] = X_train.apply(lambda row: follows_back(row['node1'],row['node2'],train_graph),axis=1)\n",
        "    \n",
        "    pr, mean_pr = pg_rank(train_graph)\n",
        "    X_train['page_rank_n1'] = X_train.node1.apply(lambda x:pr.get(x,mean_pr))\n",
        "    X_train['page_rank_n2'] = X_train.node2.apply(lambda x:pr.get(x,mean_pr))\n",
        "\n",
        "    katz, mean_katz = katz_central(train_graph)\n",
        "    X_train['katz_n1'] = X_train.node1.apply(lambda x: katz.get(x,mean_katz))\n",
        "    X_train['katz_n2'] = X_train.node2.apply(lambda x: katz.get(x,mean_katz))\n",
        "\n",
        "    hits, mean_hits = HITS(train_graph)\n",
        "    X_train['hubs_n1'] = X_train.node1.apply(lambda x: hits[0].get(x,0))\n",
        "    X_train['hubs_n2'] = X_train.node2.apply(lambda x: hits[0].get(x,0))\n",
        "    X_train['authorities_n1'] = X_train.node1.apply(lambda x: hits[1].get(x,0))\n",
        "    X_train['authorities_n2'] = X_train.node2.apply(lambda x: hits[1].get(x,0))\n",
        "\n",
        "    X_train['num_followers_node1'], X_train['num_followers_node2'], \\\n",
        "    X_train['num_followees_node1'], X_train['num_followees_node2'], \\\n",
        "    X_train['inter_followers'], X_train['inter_followees']= compute_features_follow(X_train)\n",
        "    \n",
        "    X_train['cos_sim'] = cos_sim(X_train)\n",
        "    \n",
        "    X_train['link'] = link_y\n",
        "    print(\"--- %s seconds ---\" % (time() - start_time))\n",
        "    X_train.to_csv('/content/drive/My Drive/dataset/SNA_HW01/%s.csv'% (df_to_write_in), index=False)\n",
        "    \n",
        "    return X_train"
      ],
      "execution_count": 69,
      "outputs": []
    },
    {
      "cell_type": "code",
      "metadata": {
        "colab": {
          "base_uri": "https://localhost:8080/"
        },
        "id": "OhxZb4edCn40",
        "outputId": "56eed657-e46b-44da-b2eb-173f2b10b92f"
      },
      "source": [
        "x_train_train = map_features(X_train_tra, train_tra_graph, 'X_train_train', y_train_tra)"
      ],
      "execution_count": 70,
      "outputs": [
        {
          "output_type": "stream",
          "name": "stdout",
          "text": [
            "pg rank\n",
            "min 0.00023249521851032023\n",
            "max 0.006145815855933249\n",
            "mean 0.0010905125408942203\n",
            "Katz Centrality\n",
            "min 0.030764084388899843\n",
            "max 0.04626070636656053\n",
            "mean 0.032945187738893274\n",
            "Hyper-link induced topic search (HITS)\n",
            "min -1.3564662905845446e-21\n",
            "max 0.010699725544801638\n",
            "mean 0.0010905125408942201 \n",
            "\n",
            "--- 15.333518028259277 seconds ---\n"
          ]
        }
      ]
    },
    {
      "cell_type": "code",
      "metadata": {
        "colab": {
          "base_uri": "https://localhost:8080/"
        },
        "id": "QDYvRMEyCrKB",
        "outputId": "e773ee39-39ae-4020-e8ca-f177f61be842"
      },
      "source": [
        "x_train_valid = map_features(X_train_val, train_tra_graph, 'X_train_valid', y_train_val)"
      ],
      "execution_count": 71,
      "outputs": [
        {
          "output_type": "stream",
          "name": "stdout",
          "text": [
            "pg rank\n",
            "min 0.00023249521851032023\n",
            "max 0.006145815855933249\n",
            "mean 0.0010905125408942203\n",
            "Katz Centrality\n",
            "min 0.030764084388899843\n",
            "max 0.04626070636656053\n",
            "mean 0.032945187738893274\n",
            "Hyper-link induced topic search (HITS)\n",
            "min -9.203057194443623e-22\n",
            "max 0.010699725544801638\n",
            "mean 0.0010905125408942201 \n",
            "\n",
            "--- 4.057105541229248 seconds ---\n"
          ]
        }
      ]
    },
    {
      "cell_type": "code",
      "metadata": {
        "colab": {
          "base_uri": "https://localhost:8080/",
          "height": 130
        },
        "id": "LcjU8H7zCtkM",
        "outputId": "7b4841b6-804a-43a0-ea7b-09bc5d0481ce"
      },
      "source": [
        "x_train_train.head(2)"
      ],
      "execution_count": 59,
      "outputs": [
        {
          "output_type": "execute_result",
          "data": {
            "text/html": [
              "<div>\n",
              "<style scoped>\n",
              "    .dataframe tbody tr th:only-of-type {\n",
              "        vertical-align: middle;\n",
              "    }\n",
              "\n",
              "    .dataframe tbody tr th {\n",
              "        vertical-align: top;\n",
              "    }\n",
              "\n",
              "    .dataframe thead th {\n",
              "        text-align: right;\n",
              "    }\n",
              "</style>\n",
              "<table border=\"1\" class=\"dataframe\">\n",
              "  <thead>\n",
              "    <tr style=\"text-align: right;\">\n",
              "      <th></th>\n",
              "      <th>node1</th>\n",
              "      <th>node2</th>\n",
              "      <th>jaccard_coef</th>\n",
              "      <th>adar_index</th>\n",
              "      <th>shortest_path</th>\n",
              "      <th>follows_back</th>\n",
              "      <th>page_rank_n1</th>\n",
              "      <th>page_rank_n2</th>\n",
              "      <th>katz_n1</th>\n",
              "      <th>katz_n2</th>\n",
              "      <th>hubs_n1</th>\n",
              "      <th>hubs_n2</th>\n",
              "      <th>authorities_n1</th>\n",
              "      <th>authorities_n2</th>\n",
              "      <th>num_followers_node1</th>\n",
              "      <th>num_followers_node2</th>\n",
              "      <th>num_followees_node1</th>\n",
              "      <th>num_followees_node2</th>\n",
              "      <th>inter_followers</th>\n",
              "      <th>inter_followees</th>\n",
              "      <th>cos_sim</th>\n",
              "      <th>link</th>\n",
              "    </tr>\n",
              "  </thead>\n",
              "  <tbody>\n",
              "    <tr>\n",
              "      <th>0</th>\n",
              "      <td>377</td>\n",
              "      <td>464</td>\n",
              "      <td>0.015873</td>\n",
              "      <td>0.642549</td>\n",
              "      <td>2</td>\n",
              "      <td>0</td>\n",
              "      <td>0.002497</td>\n",
              "      <td>0.001481</td>\n",
              "      <td>0.037040</td>\n",
              "      <td>0.033979</td>\n",
              "      <td>0.002291</td>\n",
              "      <td>0.001809</td>\n",
              "      <td>0.002205</td>\n",
              "      <td>0.001710</td>\n",
              "      <td>44</td>\n",
              "      <td>24</td>\n",
              "      <td>75</td>\n",
              "      <td>16</td>\n",
              "      <td>2</td>\n",
              "      <td>1</td>\n",
              "      <td>0.351</td>\n",
              "      <td>1.0</td>\n",
              "    </tr>\n",
              "    <tr>\n",
              "      <th>1</th>\n",
              "      <td>918</td>\n",
              "      <td>974</td>\n",
              "      <td>0.000000</td>\n",
              "      <td>0.000000</td>\n",
              "      <td>3</td>\n",
              "      <td>1</td>\n",
              "      <td>0.000747</td>\n",
              "      <td>0.000491</td>\n",
              "      <td>0.032171</td>\n",
              "      <td>0.031291</td>\n",
              "      <td>0.000229</td>\n",
              "      <td>0.000332</td>\n",
              "      <td>0.000528</td>\n",
              "      <td>0.000206</td>\n",
              "      <td>10</td>\n",
              "      <td>5</td>\n",
              "      <td>7</td>\n",
              "      <td>5</td>\n",
              "      <td>1</td>\n",
              "      <td>2</td>\n",
              "      <td>0.885</td>\n",
              "      <td>1.0</td>\n",
              "    </tr>\n",
              "  </tbody>\n",
              "</table>\n",
              "</div>"
            ],
            "text/plain": [
              "   node1  node2  jaccard_coef  ...  inter_followees  cos_sim  link\n",
              "0    377    464      0.015873  ...                1    0.351   1.0\n",
              "1    918    974      0.000000  ...                2    0.885   1.0\n",
              "\n",
              "[2 rows x 22 columns]"
            ]
          },
          "metadata": {},
          "execution_count": 59
        }
      ]
    },
    {
      "cell_type": "code",
      "metadata": {
        "colab": {
          "base_uri": "https://localhost:8080/"
        },
        "id": "ITqyN0YLEChO",
        "outputId": "2eaf554f-f248-4e96-b5c4-5fe56a1b4042"
      },
      "source": [
        "X_train = map_features(X_train, train_graph, 'X_train', y_train)"
      ],
      "execution_count": 72,
      "outputs": [
        {
          "output_type": "stream",
          "name": "stdout",
          "text": [
            "pg rank\n",
            "min 0.00021959185555172543\n",
            "max 0.01735752592679496\n",
            "mean 0.0010626992561105259\n",
            "Katz Centrality\n",
            "min 0.029792118947849715\n",
            "max 0.048514075530370925\n",
            "mean 0.03247480243102524\n",
            "Hyper-link induced topic search (HITS)\n",
            "min -5.470288554805248e-22\n",
            "max 0.011597444478093554\n",
            "mean 0.0010626992561105196 \n",
            "\n",
            "--- 19.34031867980957 seconds ---\n"
          ]
        }
      ]
    },
    {
      "cell_type": "code",
      "metadata": {
        "colab": {
          "base_uri": "https://localhost:8080/",
          "height": 332
        },
        "id": "TVi77ZMEEEr_",
        "outputId": "dd813956-8591-4034-ee5f-f562988571bb"
      },
      "source": [
        "X_train.describe()"
      ],
      "execution_count": 62,
      "outputs": [
        {
          "output_type": "execute_result",
          "data": {
            "text/html": [
              "<div>\n",
              "<style scoped>\n",
              "    .dataframe tbody tr th:only-of-type {\n",
              "        vertical-align: middle;\n",
              "    }\n",
              "\n",
              "    .dataframe tbody tr th {\n",
              "        vertical-align: top;\n",
              "    }\n",
              "\n",
              "    .dataframe thead th {\n",
              "        text-align: right;\n",
              "    }\n",
              "</style>\n",
              "<table border=\"1\" class=\"dataframe\">\n",
              "  <thead>\n",
              "    <tr style=\"text-align: right;\">\n",
              "      <th></th>\n",
              "      <th>node1</th>\n",
              "      <th>node2</th>\n",
              "      <th>jaccard_coef</th>\n",
              "      <th>adar_index</th>\n",
              "      <th>shortest_path</th>\n",
              "      <th>follows_back</th>\n",
              "      <th>page_rank_n1</th>\n",
              "      <th>page_rank_n2</th>\n",
              "      <th>katz_n1</th>\n",
              "      <th>katz_n2</th>\n",
              "      <th>hubs_n1</th>\n",
              "      <th>hubs_n2</th>\n",
              "      <th>authorities_n1</th>\n",
              "      <th>authorities_n2</th>\n",
              "      <th>num_followers_node1</th>\n",
              "      <th>num_followers_node2</th>\n",
              "      <th>num_followees_node1</th>\n",
              "      <th>num_followees_node2</th>\n",
              "      <th>inter_followers</th>\n",
              "      <th>inter_followees</th>\n",
              "      <th>cos_sim</th>\n",
              "      <th>link</th>\n",
              "    </tr>\n",
              "  </thead>\n",
              "  <tbody>\n",
              "    <tr>\n",
              "      <th>count</th>\n",
              "      <td>28638.000000</td>\n",
              "      <td>28638.000000</td>\n",
              "      <td>28638.000000</td>\n",
              "      <td>28638.000000</td>\n",
              "      <td>28638.000000</td>\n",
              "      <td>28638.000000</td>\n",
              "      <td>28638.000000</td>\n",
              "      <td>28638.000000</td>\n",
              "      <td>28638.000000</td>\n",
              "      <td>28638.000000</td>\n",
              "      <td>2.863800e+04</td>\n",
              "      <td>2.863800e+04</td>\n",
              "      <td>2.863800e+04</td>\n",
              "      <td>2.863800e+04</td>\n",
              "      <td>28638.000000</td>\n",
              "      <td>28638.000000</td>\n",
              "      <td>28638.000000</td>\n",
              "      <td>28638.000000</td>\n",
              "      <td>28638.000000</td>\n",
              "      <td>28638.000000</td>\n",
              "      <td>28638.000000</td>\n",
              "      <td>28638.000000</td>\n",
              "    </tr>\n",
              "    <tr>\n",
              "      <th>mean</th>\n",
              "      <td>433.875550</td>\n",
              "      <td>433.220372</td>\n",
              "      <td>0.053919</td>\n",
              "      <td>1.974162</td>\n",
              "      <td>1.407780</td>\n",
              "      <td>0.206160</td>\n",
              "      <td>0.001389</td>\n",
              "      <td>0.001398</td>\n",
              "      <td>0.033736</td>\n",
              "      <td>0.033679</td>\n",
              "      <td>1.744591e-03</td>\n",
              "      <td>1.593590e-03</td>\n",
              "      <td>1.553683e-03</td>\n",
              "      <td>1.533863e-03</td>\n",
              "      <td>21.423947</td>\n",
              "      <td>21.109575</td>\n",
              "      <td>23.998324</td>\n",
              "      <td>21.700363</td>\n",
              "      <td>2.882883</td>\n",
              "      <td>2.853865</td>\n",
              "      <td>0.401520</td>\n",
              "      <td>0.500000</td>\n",
              "    </tr>\n",
              "    <tr>\n",
              "      <th>std</th>\n",
              "      <td>291.116849</td>\n",
              "      <td>288.482083</td>\n",
              "      <td>0.121212</td>\n",
              "      <td>3.692669</td>\n",
              "      <td>1.650378</td>\n",
              "      <td>0.404554</td>\n",
              "      <td>0.001177</td>\n",
              "      <td>0.001304</td>\n",
              "      <td>0.003804</td>\n",
              "      <td>0.003686</td>\n",
              "      <td>2.225389e-03</td>\n",
              "      <td>2.063364e-03</td>\n",
              "      <td>1.729743e-03</td>\n",
              "      <td>1.696387e-03</td>\n",
              "      <td>21.604225</td>\n",
              "      <td>20.900841</td>\n",
              "      <td>28.251352</td>\n",
              "      <td>25.694544</td>\n",
              "      <td>4.797601</td>\n",
              "      <td>5.196530</td>\n",
              "      <td>0.331722</td>\n",
              "      <td>0.500009</td>\n",
              "    </tr>\n",
              "    <tr>\n",
              "      <th>min</th>\n",
              "      <td>0.000000</td>\n",
              "      <td>0.000000</td>\n",
              "      <td>0.000000</td>\n",
              "      <td>0.000000</td>\n",
              "      <td>-1.000000</td>\n",
              "      <td>0.000000</td>\n",
              "      <td>0.000219</td>\n",
              "      <td>0.000219</td>\n",
              "      <td>0.029790</td>\n",
              "      <td>0.029790</td>\n",
              "      <td>-7.127490e-22</td>\n",
              "      <td>-7.127490e-22</td>\n",
              "      <td>-2.373625e-20</td>\n",
              "      <td>-2.373625e-20</td>\n",
              "      <td>0.000000</td>\n",
              "      <td>0.000000</td>\n",
              "      <td>0.000000</td>\n",
              "      <td>0.000000</td>\n",
              "      <td>0.000000</td>\n",
              "      <td>0.000000</td>\n",
              "      <td>-1.000000</td>\n",
              "      <td>0.000000</td>\n",
              "    </tr>\n",
              "    <tr>\n",
              "      <th>25%</th>\n",
              "      <td>175.000000</td>\n",
              "      <td>179.000000</td>\n",
              "      <td>0.000000</td>\n",
              "      <td>0.000000</td>\n",
              "      <td>-1.000000</td>\n",
              "      <td>0.000000</td>\n",
              "      <td>0.000607</td>\n",
              "      <td>0.000619</td>\n",
              "      <td>0.030959</td>\n",
              "      <td>0.030998</td>\n",
              "      <td>1.789257e-04</td>\n",
              "      <td>1.590935e-04</td>\n",
              "      <td>2.647257e-04</td>\n",
              "      <td>2.744703e-04</td>\n",
              "      <td>5.000000</td>\n",
              "      <td>5.000000</td>\n",
              "      <td>4.000000</td>\n",
              "      <td>3.000000</td>\n",
              "      <td>0.000000</td>\n",
              "      <td>0.000000</td>\n",
              "      <td>0.286000</td>\n",
              "      <td>0.000000</td>\n",
              "    </tr>\n",
              "    <tr>\n",
              "      <th>50%</th>\n",
              "      <td>400.000000</td>\n",
              "      <td>397.000000</td>\n",
              "      <td>0.000000</td>\n",
              "      <td>0.000000</td>\n",
              "      <td>2.000000</td>\n",
              "      <td>0.000000</td>\n",
              "      <td>0.001063</td>\n",
              "      <td>0.001063</td>\n",
              "      <td>0.032526</td>\n",
              "      <td>0.032526</td>\n",
              "      <td>8.688979e-04</td>\n",
              "      <td>7.669190e-04</td>\n",
              "      <td>8.945865e-04</td>\n",
              "      <td>8.976211e-04</td>\n",
              "      <td>16.000000</td>\n",
              "      <td>15.000000</td>\n",
              "      <td>15.000000</td>\n",
              "      <td>14.000000</td>\n",
              "      <td>1.000000</td>\n",
              "      <td>0.000000</td>\n",
              "      <td>0.414000</td>\n",
              "      <td>0.500000</td>\n",
              "    </tr>\n",
              "    <tr>\n",
              "      <th>75%</th>\n",
              "      <td>676.000000</td>\n",
              "      <td>668.000000</td>\n",
              "      <td>0.074074</td>\n",
              "      <td>2.951680</td>\n",
              "      <td>3.000000</td>\n",
              "      <td>0.000000</td>\n",
              "      <td>0.001767</td>\n",
              "      <td>0.001733</td>\n",
              "      <td>0.035155</td>\n",
              "      <td>0.035066</td>\n",
              "      <td>2.415448e-03</td>\n",
              "      <td>2.291964e-03</td>\n",
              "      <td>2.315646e-03</td>\n",
              "      <td>2.213054e-03</td>\n",
              "      <td>30.000000</td>\n",
              "      <td>29.000000</td>\n",
              "      <td>33.750000</td>\n",
              "      <td>31.000000</td>\n",
              "      <td>5.000000</td>\n",
              "      <td>4.000000</td>\n",
              "      <td>0.582000</td>\n",
              "      <td>1.000000</td>\n",
              "    </tr>\n",
              "    <tr>\n",
              "      <th>max</th>\n",
              "      <td>1004.000000</td>\n",
              "      <td>1004.000000</td>\n",
              "      <td>1.000000</td>\n",
              "      <td>93.290464</td>\n",
              "      <td>6.000000</td>\n",
              "      <td>1.000000</td>\n",
              "      <td>0.017358</td>\n",
              "      <td>0.017358</td>\n",
              "      <td>0.048511</td>\n",
              "      <td>0.048511</td>\n",
              "      <td>1.159626e-02</td>\n",
              "      <td>1.159626e-02</td>\n",
              "      <td>7.640154e-03</td>\n",
              "      <td>7.640154e-03</td>\n",
              "      <td>106.000000</td>\n",
              "      <td>106.000000</td>\n",
              "      <td>181.000000</td>\n",
              "      <td>181.000000</td>\n",
              "      <td>105.000000</td>\n",
              "      <td>123.000000</td>\n",
              "      <td>1.000000</td>\n",
              "      <td>1.000000</td>\n",
              "    </tr>\n",
              "  </tbody>\n",
              "</table>\n",
              "</div>"
            ],
            "text/plain": [
              "              node1         node2  ...       cos_sim          link\n",
              "count  28638.000000  28638.000000  ...  28638.000000  28638.000000\n",
              "mean     433.875550    433.220372  ...      0.401520      0.500000\n",
              "std      291.116849    288.482083  ...      0.331722      0.500009\n",
              "min        0.000000      0.000000  ...     -1.000000      0.000000\n",
              "25%      175.000000    179.000000  ...      0.286000      0.000000\n",
              "50%      400.000000    397.000000  ...      0.414000      0.500000\n",
              "75%      676.000000    668.000000  ...      0.582000      1.000000\n",
              "max     1004.000000   1004.000000  ...      1.000000      1.000000\n",
              "\n",
              "[8 rows x 22 columns]"
            ]
          },
          "metadata": {},
          "execution_count": 62
        }
      ]
    },
    {
      "cell_type": "code",
      "metadata": {
        "colab": {
          "base_uri": "https://localhost:8080/"
        },
        "id": "DVSRrOUqEIqv",
        "outputId": "84148769-e8a3-44be-eccd-3cceb1a8feee"
      },
      "source": [
        "X_test = map_features(X_test, train_graph, 'X_test', y_test)"
      ],
      "execution_count": 73,
      "outputs": [
        {
          "output_type": "stream",
          "name": "stdout",
          "text": [
            "pg rank\n",
            "min 0.00021959185555172543\n",
            "max 0.01735752592679496\n",
            "mean 0.0010626992561105259\n",
            "Katz Centrality\n",
            "min 0.029792118947849715\n",
            "max 0.048514075530370925\n",
            "mean 0.03247480243102524\n",
            "Hyper-link induced topic search (HITS)\n",
            "min -3.9421002705619746e-22\n",
            "max 0.011597444478093553\n",
            "mean 0.0010626992561105196 \n",
            "\n",
            "--- 8.692913293838501 seconds ---\n"
          ]
        }
      ]
    },
    {
      "cell_type": "code",
      "metadata": {
        "colab": {
          "base_uri": "https://localhost:8080/"
        },
        "id": "yBo0Vs1FELT4",
        "outputId": "e4f1575b-ae2a-4e02-8b0c-b9231a481175"
      },
      "source": [
        "train_all = map_features(train_all, G, 'train_all', y_train_all)"
      ],
      "execution_count": 74,
      "outputs": [
        {
          "output_type": "stream",
          "name": "stdout",
          "text": [
            "pg rank\n",
            "min 0.00019951718342611836\n",
            "max 0.018098765268953827\n",
            "mean 0.0010214504596527114\n",
            "Katz Centrality\n",
            "min 0.027889223556596947\n",
            "max 0.05790579408362676\n",
            "mean 0.03168687221694042\n",
            "Hyper-link induced topic search (HITS)\n",
            "min -2.460574751624447e-22\n",
            "max 0.011219818790666733\n",
            "mean 0.0010214504596527073 \n",
            "\n",
            "--- 28.948695182800293 seconds ---\n"
          ]
        }
      ]
    },
    {
      "cell_type": "code",
      "metadata": {
        "colab": {
          "base_uri": "https://localhost:8080/"
        },
        "id": "zL0TTjnLEOKO",
        "outputId": "6ff8750e-0169-4b34-be2e-8be9f0f49e7e"
      },
      "source": [
        "predict = map_features(predict, G, 'predict_all', np.zeros(len(predict)))"
      ],
      "execution_count": 75,
      "outputs": [
        {
          "output_type": "stream",
          "name": "stdout",
          "text": [
            "pg rank\n",
            "min 0.00019951718342611836\n",
            "max 0.018098765268953827\n",
            "mean 0.0010214504596527114\n",
            "Katz Centrality\n",
            "min 0.027889223556596947\n",
            "max 0.05790579408362676\n",
            "mean 0.03168687221694042\n",
            "Hyper-link induced topic search (HITS)\n",
            "min -1.4639585718683437e-22\n",
            "max 0.011219818790666735\n",
            "mean 0.0010214504596527073 \n",
            "\n",
            "--- 7.914595127105713 seconds ---\n"
          ]
        }
      ]
    },
    {
      "cell_type": "code",
      "metadata": {
        "id": "aSThrKcQFHpe"
      },
      "source": [
        ""
      ],
      "execution_count": null,
      "outputs": []
    }
  ]
}