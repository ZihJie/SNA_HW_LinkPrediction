{
  "nbformat": 4,
  "nbformat_minor": 0,
  "metadata": {
    "colab": {
      "name": "link_predict.ipynb",
      "provenance": [],
      "collapsed_sections": [
        "Uw1lGVR-MYcu",
        "QQ3EPY0EMHAp",
        "-vFV74oUMAAt",
        "S1FSMYQZfzoo"
      ]
    },
    "kernelspec": {
      "name": "python3",
      "display_name": "Python 3"
    },
    "language_info": {
      "name": "python"
    }
  },
  "cells": [
    {
      "cell_type": "code",
      "metadata": {
        "id": "2PtBpb3c7Maz"
      },
      "source": [
        "import matplotlib.pyplot as plt\n",
        "import pandas as pd\n",
        "import numpy as np\n",
        "import random\n",
        "import networkx as nx\n",
        "import scipy.sparse as sp\n",
        "from scipy.stats import randint as sp_randint\n",
        "from sklearn  import preprocessing\n",
        "from sklearn.preprocessing  import StandardScaler\n",
        "from sklearn.metrics import accuracy_score, average_precision_score\n",
        "from sklearn.ensemble import RandomForestClassifier\n",
        "from sklearn.model_selection import RandomizedSearchCV\n",
        "\n",
        "from time import time\n",
        "from sklearn.decomposition import PCA\n",
        "from sklearn import svm"
      ],
      "execution_count": 1,
      "outputs": []
    },
    {
      "cell_type": "code",
      "metadata": {
        "colab": {
          "base_uri": "https://localhost:8080/"
        },
        "id": "2Nq48jcH7FCn",
        "outputId": "fd9d6fa5-567c-4b2e-c652-b4e89789bfa0"
      },
      "source": [
        "from google.colab import drive\n",
        "drive.mount('/content/drive')"
      ],
      "execution_count": 2,
      "outputs": [
        {
          "output_type": "stream",
          "name": "stdout",
          "text": [
            "Mounted at /content/drive\n"
          ]
        }
      ]
    },
    {
      "cell_type": "markdown",
      "metadata": {
        "id": "Uw1lGVR-MYcu"
      },
      "source": [
        "## 讀取所需資料集"
      ]
    },
    {
      "cell_type": "code",
      "metadata": {
        "colab": {
          "base_uri": "https://localhost:8080/"
        },
        "id": "2sKyq6Qs7VwE",
        "outputId": "3a2db2cf-21e1-42a3-c2d9-e3f9775d5b03"
      },
      "source": [
        "x_train_final = pd.read_csv(\"/content/drive/My Drive/dataset/SNA_HW01/X_train_train.csv\")\n",
        "x_test_final = pd.read_csv(\"/content/drive/My Drive/dataset/SNA_HW01/X_train_valid.csv\")\n",
        "print(\"train： %s, test： %s\" % (len(x_train_final),len(x_test_final)))\n",
        "\n",
        "y_train_final = x_train_final['link']\n",
        "y_test_final = x_test_final['link']\n",
        "x_train_final.drop(['node1', 'node2','link','shortest_path'],axis=1,inplace=True)\n",
        "x_test_final.drop(['node1', 'node2','link','shortest_path'],axis=1,inplace=True)"
      ],
      "execution_count": 3,
      "outputs": [
        {
          "output_type": "stream",
          "name": "stdout",
          "text": [
            "train： 22910, test： 5728\n"
          ]
        }
      ]
    },
    {
      "cell_type": "code",
      "metadata": {
        "colab": {
          "base_uri": "https://localhost:8080/"
        },
        "id": "J_cRtmDL7lLU",
        "outputId": "00b60057-560f-4e79-f4b3-249d23eccf2d"
      },
      "source": [
        "x_train_final2 = pd.read_csv(\"/content/drive/My Drive/dataset/SNA_HW01/X_train.csv\")\n",
        "x_test_final2 = pd.read_csv(\"/content/drive/My Drive/dataset/SNA_HW01/X_test.csv\")\n",
        "print(\"train： %s, test： %s\" % (len(x_train_final2),len(x_test_final2)))\n",
        "\n",
        "y_train_final2 = x_train_final2['link']\n",
        "y_test_final2 = x_test_final2['link']\n",
        "x_train_final2.drop(['node1', 'node2','link','shortest_path'],axis=1,inplace=True)\n",
        "x_test_final2.drop(['node1', 'node2','link','shortest_path'],axis=1,inplace=True)"
      ],
      "execution_count": 4,
      "outputs": [
        {
          "output_type": "stream",
          "name": "stdout",
          "text": [
            "train： 28638, test： 12276\n"
          ]
        }
      ]
    },
    {
      "cell_type": "code",
      "metadata": {
        "colab": {
          "base_uri": "https://localhost:8080/"
        },
        "id": "VaPlh0BL7yoW",
        "outputId": "ea7120bc-606d-4c68-c80f-d34da6ab539e"
      },
      "source": [
        "x_train_final3 = pd.read_csv(\"/content/drive/My Drive/dataset/SNA_HW01/train_all.csv\")\n",
        "x_pred_final = pd.read_csv(\"/content/drive/My Drive/dataset/SNA_HW01/predict_all.csv\")\n",
        "print(\"train： %s, predict： %s\" % (len(x_train_final3),len(x_pred_final)))\n",
        "\n",
        "y_train_final3 = x_train_final3['link']\n",
        "\n",
        "x_train_final3.drop(['node1', 'node2','link','shortest_path'],axis=1,inplace=True)\n",
        "x_pred_final.drop(['node1', 'node2','link','shortest_path'],axis=1,inplace=True)"
      ],
      "execution_count": 5,
      "outputs": [
        {
          "output_type": "stream",
          "name": "stdout",
          "text": [
            "train： 40914, predict： 10231\n"
          ]
        }
      ]
    },
    {
      "cell_type": "markdown",
      "metadata": {
        "id": "QQ3EPY0EMHAp"
      },
      "source": [
        "## 用 XGboost 預測"
      ]
    },
    {
      "cell_type": "code",
      "metadata": {
        "id": "bJ0ZcHvlHmyv"
      },
      "source": [
        "from xgboost.sklearn import XGBClassifier"
      ],
      "execution_count": 17,
      "outputs": []
    },
    {
      "cell_type": "code",
      "metadata": {
        "id": "d7oi3KvdH5N8"
      },
      "source": [
        "#先把dataframe轉成np.array型態\n",
        "xg_X_train = x_train_final.values\n",
        "xg_X_test = x_test_final.values\n",
        "xg_y_train = y_train_final.values\n",
        "xg_y_test = y_test_final.values"
      ],
      "execution_count": 18,
      "outputs": []
    },
    {
      "cell_type": "code",
      "metadata": {
        "id": "0sqP0c4tIUGW"
      },
      "source": [
        "Xgbc=XGBClassifier(random_state=2019)\n",
        "Xgbc.fit(xg_X_train,xg_y_train)\n",
        "y_xgbc_pred=Xgbc.predict(xg_X_test)\n",
        "Xgbc_score=accuracy_score(xg_y_test,y_xgbc_pred) #準確率"
      ],
      "execution_count": 19,
      "outputs": []
    },
    {
      "cell_type": "code",
      "metadata": {
        "colab": {
          "base_uri": "https://localhost:8080/"
        },
        "id": "uHAyXrNxIxtw",
        "outputId": "4cf4f1f5-93da-4fe7-cd24-ad1191593058"
      },
      "source": [
        "Xgbc_score"
      ],
      "execution_count": 20,
      "outputs": [
        {
          "output_type": "execute_result",
          "data": {
            "text/plain": [
              "0.977304469273743"
            ]
          },
          "metadata": {},
          "execution_count": 20
        }
      ]
    },
    {
      "cell_type": "code",
      "metadata": {
        "colab": {
          "base_uri": "https://localhost:8080/"
        },
        "id": "eJ8eRT2rI4F_",
        "outputId": "7353cbcc-5ae0-4534-b352-3ef3cb5ef8a3"
      },
      "source": [
        "from sklearn.metrics import classification_report\n",
        "print(classification_report(xg_y_test,y_xgbc_pred))"
      ],
      "execution_count": 21,
      "outputs": [
        {
          "output_type": "stream",
          "name": "stdout",
          "text": [
            "              precision    recall  f1-score   support\n",
            "\n",
            "         0.0       0.97      0.98      0.98      2864\n",
            "         1.0       0.98      0.97      0.98      2864\n",
            "\n",
            "    accuracy                           0.98      5728\n",
            "   macro avg       0.98      0.98      0.98      5728\n",
            "weighted avg       0.98      0.98      0.98      5728\n",
            "\n"
          ]
        }
      ]
    },
    {
      "cell_type": "code",
      "metadata": {
        "colab": {
          "base_uri": "https://localhost:8080/"
        },
        "id": "d-0bds1CJUDg",
        "outputId": "dcbfd4d0-e4b0-4478-dec6-b2af2a2443e6"
      },
      "source": [
        "xg_predic = x_pred_final.values\n",
        "y_pred = Xgbc.predict(xg_predic)\n",
        "y_pred"
      ],
      "execution_count": 27,
      "outputs": [
        {
          "output_type": "execute_result",
          "data": {
            "text/plain": [
              "array([1., 1., 0., ..., 1., 0., 1.])"
            ]
          },
          "metadata": {},
          "execution_count": 27
        }
      ]
    },
    {
      "cell_type": "code",
      "metadata": {
        "id": "Bg8ulG-MKtlK"
      },
      "source": [
        "answer = pd.read_csv(\"/content/drive/My Drive/dataset/SNA_HW01/ans_example.csv\")\n",
        "answer['ans'] = [int(i) for i in y_pred] # turn float to int type\n",
        "answer.to_csv(\"/content/drive/My Drive/dataset/SNA_HW01/ans_30_xgb_node2vec.csv\", index=False )"
      ],
      "execution_count": 26,
      "outputs": []
    },
    {
      "cell_type": "code",
      "metadata": {
        "id": "eqEA1-248O-X"
      },
      "source": [
        ""
      ],
      "execution_count": null,
      "outputs": []
    },
    {
      "cell_type": "markdown",
      "metadata": {
        "id": "-vFV74oUMAAt"
      },
      "source": [
        "## 用 RandomFroest 做預測"
      ]
    },
    {
      "cell_type": "code",
      "metadata": {
        "colab": {
          "base_uri": "https://localhost:8080/"
        },
        "id": "x_cP6xdQ7-M5",
        "outputId": "a69441ec-67ee-4d6a-fed3-f63bae376558"
      },
      "source": [
        "#train model\n",
        "start_time = time()\n",
        "param_dist = {\"n_estimators\":sp_randint(100,150),\n",
        "              \"max_depth\": sp_randint(10,20)}\n",
        "\n",
        "clf = RandomForestClassifier(random_state=25,n_jobs=-1, oob_score=True)\n",
        "rf_random = RandomizedSearchCV(clf, param_distributions=param_dist,\n",
        "                                   n_iter=5,cv=10,scoring='accuracy',random_state=25)\n",
        "\n",
        "rf_random.fit(x_train_final, y_train_final)\n",
        "print('mean test scores','\\n',rf_random.cv_results_['mean_test_score'])\n",
        "print(\"--- %s seconds ---\" % (time() - start_time))"
      ],
      "execution_count": 7,
      "outputs": [
        {
          "output_type": "stream",
          "name": "stdout",
          "text": [
            "mean test scores \n",
            " [0.98529027 0.98520297 0.98498472 0.98520297 0.98502837]\n",
            "--- 162.19949078559875 seconds ---\n"
          ]
        }
      ]
    },
    {
      "cell_type": "code",
      "metadata": {
        "colab": {
          "base_uri": "https://localhost:8080/"
        },
        "id": "PIR34Hoh7_Zw",
        "outputId": "855fb5ae-6a0a-4da0-a98a-3b01a3d3b4d0"
      },
      "source": [
        "# build model with the best parameters\n",
        "clf = rf_random.best_estimator_\n",
        "print(rf_random.best_estimator_)"
      ],
      "execution_count": 8,
      "outputs": [
        {
          "output_type": "stream",
          "name": "stdout",
          "text": [
            "RandomForestClassifier(bootstrap=True, ccp_alpha=0.0, class_weight=None,\n",
            "                       criterion='gini', max_depth=14, max_features='auto',\n",
            "                       max_leaf_nodes=None, max_samples=None,\n",
            "                       min_impurity_decrease=0.0, min_impurity_split=None,\n",
            "                       min_samples_leaf=1, min_samples_split=2,\n",
            "                       min_weight_fraction_leaf=0.0, n_estimators=126,\n",
            "                       n_jobs=-1, oob_score=True, random_state=25, verbose=0,\n",
            "                       warm_start=False)\n"
          ]
        }
      ]
    },
    {
      "cell_type": "code",
      "metadata": {
        "colab": {
          "base_uri": "https://localhost:8080/"
        },
        "id": "AN1BCEk98DLf",
        "outputId": "92a52b92-56b3-4aa2-d6fb-0dcadec03a8f"
      },
      "source": [
        "clf.fit(x_train_final, y_train_final)\n",
        "print (clf.oob_score_)\n",
        "\n",
        "y_pred = clf.predict(x_test_final)\n",
        "print (\"Validation accuracy score: \" ,accuracy_score(y_test_final, y_pred))"
      ],
      "execution_count": 9,
      "outputs": [
        {
          "output_type": "stream",
          "name": "stdout",
          "text": [
            "0.9845918812745525\n",
            "Validation accuracy score:  0.9769553072625698\n"
          ]
        }
      ]
    },
    {
      "cell_type": "code",
      "metadata": {
        "colab": {
          "base_uri": "https://localhost:8080/"
        },
        "id": "ekLzZ3pX8E3s",
        "outputId": "9f0744b6-c068-4afb-96ac-264b76acb07b"
      },
      "source": [
        "clf.fit(x_train_final2, y_train_final2)\n",
        "print (clf.oob_score_)\n",
        "\n",
        "y_pred = clf.predict(x_test_final2)\n",
        "print('Testing accuracy score: ',accuracy_score(y_test_final2, y_pred))"
      ],
      "execution_count": 10,
      "outputs": [
        {
          "output_type": "stream",
          "name": "stdout",
          "text": [
            "0.9845310426705776\n",
            "Testing accuracy score:  0.9713261648745519\n"
          ]
        }
      ]
    },
    {
      "cell_type": "code",
      "metadata": {
        "colab": {
          "base_uri": "https://localhost:8080/"
        },
        "id": "rDmDgDMS8HUS",
        "outputId": "0284c9e4-a291-4c3d-878d-a11b973107cc"
      },
      "source": [
        "clf.fit(x_train_final3, y_train_final3)\n",
        "print (clf.oob_score_)\n",
        "\n",
        "y_pred = clf.predict(x_pred_final)"
      ],
      "execution_count": 11,
      "outputs": [
        {
          "output_type": "stream",
          "name": "stdout",
          "text": [
            "0.9860927799775138\n"
          ]
        }
      ]
    },
    {
      "cell_type": "code",
      "metadata": {
        "colab": {
          "base_uri": "https://localhost:8080/"
        },
        "id": "1AE6lNPG8JMl",
        "outputId": "7c34ceb8-0caa-449a-bcaa-a450dedb4304"
      },
      "source": [
        "sum(y_pred)"
      ],
      "execution_count": 12,
      "outputs": [
        {
          "output_type": "execute_result",
          "data": {
            "text/plain": [
              "5525.0"
            ]
          },
          "metadata": {},
          "execution_count": 12
        }
      ]
    },
    {
      "cell_type": "code",
      "metadata": {
        "id": "iFTcQ1Bz8MD6"
      },
      "source": [
        "answer = pd.read_csv(\"/content/drive/My Drive/dataset/SNA_HW01/ans_example.csv\")\n",
        "answer['ans'] = [int(i) for i in y_pred] # turn float to int type\n",
        "answer.to_csv(\"/content/drive/My Drive/dataset/SNA_HW01/ans_30_rf_node2vec.csv\", index=False )"
      ],
      "execution_count": 16,
      "outputs": []
    },
    {
      "cell_type": "markdown",
      "metadata": {
        "id": "S1FSMYQZfzoo"
      },
      "source": [
        "## 用 RandomForest using PCA feature selection 做預測"
      ]
    },
    {
      "cell_type": "markdown",
      "metadata": {
        "id": "bm-sY9gVpUU_"
      },
      "source": [
        "### train-validation"
      ]
    },
    {
      "cell_type": "code",
      "metadata": {
        "id": "G1ZeLXhtpozd"
      },
      "source": [
        "def train_test_std(x_train_final, x_test_final):\n",
        "    scaler = preprocessing.StandardScaler().fit(x_train_final)\n",
        "    x_train_final_std = pd.DataFrame(scaler.transform(x_train_final.values), columns=x_train_final.columns)\n",
        "    x_test_final_std = pd.DataFrame(scaler.transform(x_test_final.values), columns=x_test_final.columns)\n",
        "    return x_train_final_std, x_test_final_std"
      ],
      "execution_count": 6,
      "outputs": []
    },
    {
      "cell_type": "code",
      "metadata": {
        "id": "4YLh9VgopuOH"
      },
      "source": [
        "x_train_final_std, x_test_final_std = train_test_std(x_train_final, x_test_final)"
      ],
      "execution_count": 7,
      "outputs": []
    },
    {
      "cell_type": "code",
      "metadata": {
        "colab": {
          "base_uri": "https://localhost:8080/"
        },
        "id": "lJajHv3Rp0_y",
        "outputId": "44f5024b-f55b-49b0-97df-6f5e3ee1e9a6"
      },
      "source": [
        "#PCA\n",
        "pca = PCA(n_components=6)\n",
        "x_train_pca = pca.fit_transform(x_train_final_std)\n",
        "x_test_pca = pca.transform(x_test_final_std)\n",
        "\n",
        "clf = RandomForestClassifier(random_state=25,n_jobs=-1, oob_score=True)\n",
        "clf.fit(x_train_pca ,  y_train_final)\n",
        "rf_pred = clf.predict(x_test_pca)\n",
        "print('Validation accuracy score: ',accuracy_score(y_test_final, rf_pred))"
      ],
      "execution_count": 8,
      "outputs": [
        {
          "output_type": "stream",
          "name": "stdout",
          "text": [
            "Validation accuracy score:  0.971717877094972\n"
          ]
        }
      ]
    },
    {
      "cell_type": "code",
      "metadata": {
        "colab": {
          "base_uri": "https://localhost:8080/"
        },
        "id": "VJn4PdJGp4hI",
        "outputId": "f75372a9-5e20-4d54-c783-817454e32cfe"
      },
      "source": [
        "#std\n",
        "clf = RandomForestClassifier(random_state=25,n_jobs=-1, oob_score=True)\n",
        "clf.fit(x_train_final_std,  y_train_final)\n",
        "rf_pred = clf.predict(x_test_final_std)\n",
        "print('Validation accuracy score: ',accuracy_score(y_test_final, rf_pred))"
      ],
      "execution_count": 9,
      "outputs": [
        {
          "output_type": "stream",
          "name": "stdout",
          "text": [
            "Validation accuracy score:  0.9769553072625698\n"
          ]
        }
      ]
    },
    {
      "cell_type": "markdown",
      "metadata": {
        "id": "N3lsJoYFrPL2"
      },
      "source": [
        "### train-test"
      ]
    },
    {
      "cell_type": "code",
      "metadata": {
        "id": "m6GZwUxjrPL-"
      },
      "source": [
        "x_train_final_std, x_test_final_std = train_test_std(x_train_final2, x_test_final2)"
      ],
      "execution_count": 10,
      "outputs": []
    },
    {
      "cell_type": "code",
      "metadata": {
        "colab": {
          "base_uri": "https://localhost:8080/"
        },
        "id": "tk0M_jKnrPL_",
        "outputId": "57b1f3af-321b-4495-afff-bb6b99a8fceb"
      },
      "source": [
        "#PCA\n",
        "pca = PCA(n_components=6)\n",
        "x_train_pca = pca.fit_transform(x_train_final_std)\n",
        "x_test_pca = pca.transform(x_test_final_std)\n",
        "\n",
        "clf = RandomForestClassifier(random_state=25,n_jobs=-1, oob_score=True)\n",
        "clf.fit(x_train_pca ,  y_train_final2)\n",
        "rf_pred = clf.predict(x_test_pca)\n",
        "print('Test accuracy score: ',accuracy_score(y_test_final2, rf_pred))"
      ],
      "execution_count": 11,
      "outputs": [
        {
          "output_type": "stream",
          "name": "stdout",
          "text": [
            "Test accuracy score:  0.9707559465623982\n"
          ]
        }
      ]
    },
    {
      "cell_type": "code",
      "metadata": {
        "colab": {
          "base_uri": "https://localhost:8080/"
        },
        "id": "gQmdeRX-rPL_",
        "outputId": "9c4dce35-00e8-4383-8709-16d42f641da1"
      },
      "source": [
        "#std\n",
        "clf = RandomForestClassifier(random_state=25,n_jobs=-1, oob_score=True)\n",
        "clf.fit(x_train_final_std,  y_train_final2)\n",
        "rf_pred = clf.predict(x_test_final_std)\n",
        "print('Test accuracy score: ',accuracy_score(y_test_final2, rf_pred))"
      ],
      "execution_count": 12,
      "outputs": [
        {
          "output_type": "stream",
          "name": "stdout",
          "text": [
            "Test accuracy score:  0.9716520039100685\n"
          ]
        }
      ]
    },
    {
      "cell_type": "markdown",
      "metadata": {
        "id": "gk2SMeo9pPDv"
      },
      "source": [
        "### train_all-predict"
      ]
    },
    {
      "cell_type": "code",
      "metadata": {
        "id": "3PeZ9Baagcr3"
      },
      "source": [
        "x_train_final_std, x_pred_final_std = train_test_std(x_train_final3, x_pred_final)"
      ],
      "execution_count": 40,
      "outputs": []
    },
    {
      "cell_type": "code",
      "metadata": {
        "id": "pEk2DHeUgnjh"
      },
      "source": [
        "#PCA\n",
        "pca = PCA(n_components=6)\n",
        "x_train_pca = pca.fit_transform(x_train_final_std)\n",
        "x_pred_pca = pca.transform(x_pred_final_std)"
      ],
      "execution_count": 41,
      "outputs": []
    },
    {
      "cell_type": "code",
      "metadata": {
        "colab": {
          "base_uri": "https://localhost:8080/"
        },
        "id": "_dtOnTESgHTn",
        "outputId": "bab0ff75-8215-4d11-f330-1b31efea7c7a"
      },
      "source": [
        "#train model\n",
        "start_time = time()\n",
        "param_dist = {\"n_estimators\":sp_randint(100,150),\n",
        "              \"max_depth\": sp_randint(10,20)}\n",
        "\n",
        "clf = RandomForestClassifier(random_state=25,n_jobs=-1, oob_score=True)\n",
        "rf_random = RandomizedSearchCV(clf, param_distributions=param_dist,\n",
        "                                   n_iter=5,cv=10,scoring='accuracy',random_state=25)\n",
        "\n",
        "rf_random.fit(x_train_pca, y_train_final3)\n",
        "print('mean test scores','\\n',rf_random.cv_results_['mean_test_score'])\n",
        "print(\"--- %s seconds ---\" % (time() - start_time))"
      ],
      "execution_count": 42,
      "outputs": [
        {
          "output_type": "stream",
          "name": "stdout",
          "text": [
            "mean test scores \n",
            " [0.98181544 0.98193761 0.98125323 0.98183988 0.98179103]\n",
            "--- 386.13140320777893 seconds ---\n"
          ]
        }
      ]
    },
    {
      "cell_type": "code",
      "metadata": {
        "colab": {
          "base_uri": "https://localhost:8080/"
        },
        "id": "hi1xadTEgHTu",
        "outputId": "3ca61bd6-1c89-414a-e468-e5867d84a371"
      },
      "source": [
        "# build model with the best parameters\n",
        "clf = rf_random.best_estimator_\n",
        "print(rf_random.best_estimator_)"
      ],
      "execution_count": 43,
      "outputs": [
        {
          "output_type": "stream",
          "name": "stdout",
          "text": [
            "RandomForestClassifier(bootstrap=True, ccp_alpha=0.0, class_weight=None,\n",
            "                       criterion='gini', max_depth=16, max_features='auto',\n",
            "                       max_leaf_nodes=None, max_samples=None,\n",
            "                       min_impurity_decrease=0.0, min_impurity_split=None,\n",
            "                       min_samples_leaf=1, min_samples_split=2,\n",
            "                       min_weight_fraction_leaf=0.0, n_estimators=123,\n",
            "                       n_jobs=-1, oob_score=True, random_state=25, verbose=0,\n",
            "                       warm_start=False)\n"
          ]
        }
      ]
    },
    {
      "cell_type": "code",
      "metadata": {
        "colab": {
          "base_uri": "https://localhost:8080/"
        },
        "id": "dE32SRx9gHTu",
        "outputId": "b19b905b-588b-48e9-d7c5-9aa010695aa7"
      },
      "source": [
        "clf.fit(x_train_pca, y_train_final3)\n",
        "print (clf.oob_score_)\n",
        "\n",
        "y_pred = clf.predict(x_pred_pca)\n"
      ],
      "execution_count": 45,
      "outputs": [
        {
          "output_type": "stream",
          "name": "stdout",
          "text": [
            "0.9816199833797722\n"
          ]
        }
      ]
    },
    {
      "cell_type": "code",
      "metadata": {
        "id": "TvbUK82CgHTw"
      },
      "source": [
        "answer = pd.read_csv(\"/content/drive/My Drive/dataset/SNA_HW01/ans_example.csv\")\n",
        "answer['ans'] = [int(i) for i in y_pred] # turn float to int type\n",
        "answer.to_csv(\"/content/drive/My Drive/dataset/SNA_HW01/ans_30_rf_PCA_node2vec.csv\", index=False )"
      ],
      "execution_count": 46,
      "outputs": []
    }
  ]
}